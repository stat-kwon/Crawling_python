{
 "cells": [
  {
   "cell_type": "code",
   "execution_count": 38,
   "id": "8b04696f",
   "metadata": {},
   "outputs": [
    {
     "name": "stdout",
     "output_type": "stream",
     "text": [
      "\n",
      "[인터풋볼] 하근수 기자= 맨체스터 유나이티드 팬들의 시위가 경기장 점령까지 번지며 노스웨스트더비가 연기됐다. 이날 맨유 선수들은 호텔에 갇힌 채 구단에 대한 팬들의 분노를 지켜볼 수 밖에 없었다.맨유는 3일 오전 0시 30분(이하 한국시간) 영국 맨체스터에 위치한 올드 트래포드에서 2020-21시즌 잉글리시 프리미어리그(EPL) 34라운드에서 리버풀과 맞붙을 예정이었다. 하지만 경기 시작 전부터 시작된 팬들의 시위가 심각해지자 끝내 노스웨스트 더비를 연기할 수밖에 없었다.글레이저 구단주에 쌓여 있던 화가 슈퍼리그 창설로 인해 폭발했다. 맨유 팬들은 이전에도 지속적으로 글레이저 일가의 구단 운영에 불만을 품었고, 경기장에서 항의 걸개를 내걸었다. 이번 시위에서 팬들은 '탐욕스러운 글레이저 가문은 나가라' 등의 걸개를 들고 강력한 규탄 시위를 벌였다. 경기장 밖에서부터 시작된 팬들의 시위는 과격했다. 이후 경기장 내부로 들어온 팬들은 의자를 비롯한 시설물 파손과 함께 '스카이스포츠' 중계진을 향해 홍염을 던지기까지 했다. 안전상의 문제로 정상적인 경기가 불가능했다.결국 맨유는 구단 홈페이지를 통해 \"이번 34라운드 경기는 경찰과 EPL 사무국, 구단 평의회, 상호 구단 간의 논의 끝에 연기됐다. 향후 협의된 날짜가 이뤄질 것이다. 우리는 팬들의 시위 권리를 완전히 인정한다. 하지만 위험에 빠뜨린 점은 유감스럽게 생각한다\"라고 공식 발표했다. 한편 경기를 앞두고 있던 맨유의 선수들은 시위대에 가로막혀 호텔 안에 갇히게 됐다. 영국 '미러'는 \"맨유 선수들이 창문을 통해 팬들의 시위를 지켜보며 침통한 표정을 지었다. 래시포드, 쇼, 윌리엄스, 맥토미니, 그랜트 등이 포착됐다\"라고 보도했다. 연기된 노스웨스트 더비의 일정은 사무국과의 논의를 통해 결정된다. 사진= 게티이미지, 미러 ▶ [인터풋볼 인기 영상 보러 가기]Copyright ⓒ 인터풋볼. 무단전재 및 재배포 금지\n",
      "기사제공 인터풋볼\n",
      "\n"
     ]
    }
   ],
   "source": [
    "from bs4 import BeautifulSoup\n",
    "import requests\n",
    "URL =\"https://sports.news.naver.com/news.nhn?oid=413&aid=0000118082\"\n",
    "res = requests.get(URL)\n",
    "soup = BeautifulSoup(res.content, 'html.parser')\n",
    "items = soup.select('#newsEndContents')\n",
    "\n",
    "for item in items:\n",
    "    print(item.get_text())"
   ]
  },
  {
   "cell_type": "markdown",
   "id": "73f21d47",
   "metadata": {},
   "source": [
    "* 스페이스를 이용해 하위관계를 표현\n",
    "* {>} 꺽세 표시는 바로 하위에 있을 경우를 나타냄"
   ]
  },
  {
   "cell_type": "markdown",
   "id": "8d01fa68",
   "metadata": {},
   "source": [
    "### 다음은 클래스 이름을 검색하는 것"
   ]
  },
  {
   "cell_type": "markdown",
   "id": "d8c29033",
   "metadata": {},
   "source": [
    "id => #id class => .class  \n",
    "클래스가 두개와 id가 같이 나올경우  \n",
    ".course.paid"
   ]
  },
  {
   "cell_type": "markdown",
   "id": "c042d7c2",
   "metadata": {},
   "source": [
    "\"ul#hobby_course_list li.course\""
   ]
  },
  {
   "cell_type": "code",
   "execution_count": null,
   "id": "2bd55d82",
   "metadata": {},
   "outputs": [],
   "source": [
    "'''\n",
    "<ul class=\"hobby_course\">\n",
    "    <li id=\"course\">\n",
    "'''\n",
    "위의 표현이 아래의 뜻을 가지고 있음"
   ]
  },
  {
   "cell_type": "code",
   "execution_count": null,
   "id": "3eb87497",
   "metadata": {},
   "outputs": [],
   "source": [
    "#popular_srch_lst > li.on > span.txt > a"
   ]
  },
  {
   "cell_type": "markdown",
   "id": "0d90f98e",
   "metadata": {},
   "source": [
    "### 실시간 검색어 추출하기"
   ]
  },
  {
   "cell_type": "code",
   "execution_count": 40,
   "id": "74b61be3",
   "metadata": {},
   "outputs": [
    {
     "name": "stdout",
     "output_type": "stream",
     "text": [
      "면도기\n",
      "어버이날 용돈박스\n",
      "크록스 키즈\n",
      "닌텐도 스위치\n",
      "팝잇\n",
      "카네이션\n",
      "크록스\n",
      "원피스\n",
      "마스크\n",
      "에어팟 프로\n"
     ]
    }
   ],
   "source": [
    "from bs4 import BeautifulSoup\n",
    "import requests\n",
    "URL =\"https://search.shopping.naver.com/best100v2/main.nhn\"\n",
    "res = requests.get(URL)\n",
    "soup = BeautifulSoup(res.content, 'html.parser')\n",
    "items = soup.select('#popular_srch_lst > li > span.txt > a')\n",
    "\n",
    "for item in items:\n",
    "    print(item.get_text())"
   ]
  },
  {
   "cell_type": "code",
   "execution_count": null,
   "id": "f832c04f",
   "metadata": {},
   "outputs": [],
   "source": [
    "#productListArea > ul > li:nth-child(1) > p > a"
   ]
  },
  {
   "cell_type": "code",
   "execution_count": 46,
   "id": "cab1511b",
   "metadata": {
    "scrolled": true
   },
   "outputs": [
    {
     "name": "stdout",
     "output_type": "stream",
     "text": [
      "1 나이키 팬텀 데이브레이크 써밋화이트 크림...\n",
      "2 아디다스 알파바운스 슬라이드 슬리퍼 BA87...\n",
      "3 크록스 바야밴드 클로그 205089-126\n",
      "4 몽블랑 사토리얼 반지갑 6cc 113215\n",
      "5 뉴발란스 327 우먼스 먼셀 라이트그레이 화...\n",
      "6 크록스 크록밴드 클로그 슬리퍼 샌들 크림 ...\n",
      "7 나이키 우먼스 에어맥스 엑시스 러닝화 AA2...\n",
      "8 디올 오블리크 새들 플랫 카드지갑\n",
      "9 나이키 에어 포스 1 07 CW2288-111\n",
      "10 나이키 운동화 덩크 로우 범고래 검흰 PS 사...\n",
      "11 나이키 운동화 우먼스 코트 레거시 뮬 DB39...\n",
      "12 나이키 헤리티지 86 퓨추라 워시드 캡 9130...\n",
      "13 헬렌카민스키 비앙카 HSSHE100110\n",
      "14 나이키 에어맥스 엑시스 AA2146-100\n",
      "15 컨버스 척 테일러 올스타 리프트 캔버스 56...\n",
      "16 컨버스 척테일러 1970S 하이 스니커즈화 16...\n",
      "17 나이키 헤리티지86 퓨추라 워시드캡 913011...\n",
      "18 뉴발란스 NEW BALANCE 슬리퍼 unisex SD150...\n",
      "19 나이키 데이브레이크 써밋화이트 CK2351-10...\n",
      "20 나이키 레거시 91 테크 스우시 캡 볼캡 모자...\n",
      "21 토리버치 키라 쉐브론 스몰 카메라백 53113\n",
      "22 헬렌카민스키 비앙카 여성 선캡 5종\n",
      "23 MLB 루키 볼캡 뉴욕양키스 32CP77011\n",
      "24 크록스 라이트라이드 클로그 204592-4CC\n",
      "25 나이키 데이브레이크 망고 써밋 화이트 CK2...\n",
      "26 아디다스 알파바운스 슬라이드 B41720\n",
      "27 크록스 2020 성인 크록밴드 샌들 슬리퍼 8종...\n",
      "28 반스 Old Skool 올드스쿨 뮬 VN0A3MUS6BT\n",
      "29 나이키 데이브레이크 CK2351-700\n",
      "30 나이키 에어 테일윈드79 487754-100\n",
      "31 마크제이콥스 로고스트랩 스냅샷 스몰 카메...\n",
      "32 크록스 바야밴드 클로그 205089\n",
      "33 우포스 OOFOS 남여 공용 조리 1000\n",
      "34 나이키 우먼스 레볼루션 5 BQ3207-002\n",
      "35 생로랑 YSL 모노그램 카드지갑 BOW01 1000 ...\n",
      "36 나이키 테크 힙팩 웨이스트백 힙색 슬링백 ...\n",
      "37 나이키 W 에어 맥스 디아 CI3898-100\n",
      "38 크록스 슬리퍼 라이트라이드 바야밴드 크록...\n",
      "39 아디다스 공용 알파바운스 슬라이드 슬리퍼...\n",
      "40 크록스 공용 크록밴드 클래식 아쿠아 샌들\n",
      "41 나이키 에어맥스97 트리플화이트 921826-10...\n",
      "42 카시오 무소음손목시계 수능시계 MQ24 MQ-2...\n",
      "43 샤넬 클래식 카드홀더 AP0214\n",
      "44 구찌 홀스빗 1955 미니 백 658574 HUHHG 85...\n",
      "45 생로랑 모노그램 엔벨로프 카드 지갑 41440...\n",
      "46 입생로랑 여성 카드지갑 423291\n",
      "47 샤넬 30번대 클래식 캐비어 똑딱이 카드지갑...\n",
      "48 나이키 클래식 코르테즈 807471-101 화이트...\n",
      "49 휠라 디스럽터 어글리슈즈 1FM00864\n",
      "50 골든구스 슈퍼스타 스니커즈 GWF00102 F000...\n",
      "51 나이키 에어맥스 97 921733-100\n",
      "52 반스 클래식 슬립온 뮬 VN0004KTEO1\n",
      "53 나이키 운동화 베이퍼와플 X 사카이 게임로...\n",
      "54 프라다 20FW 테수토 체인 스트랩 숄더백 1B...\n",
      "55 몽블랑 블랙 레더 스트랩 벨트 38157\n",
      "56 스케쳐스 고워크 조이맥스1 여성 봄 운동화...\n",
      "57 몽블랑 사토리얼 5cc 포켓 114603\n",
      "58 샤넬 클래식 Woc 캐비어 미니크로스백 AP02...\n",
      "59 크록스 아쿠아샌들 11016-410 네이비\n",
      "60 나이키 런닝화 에어맥스 엑시스 GS AH5222-...\n",
      "61 컨버스 런스타 하이크 보급형 166800C\n",
      "62 드리프 카네이션 브로치 부토니에\n",
      "63 나이키 우먼스 에어맥스 엑시 CD5432-101\n",
      "64 나이키 아수나 슬라이드 CI8800-002\n",
      "65 아디다스 이큅먼트 10 BB6925\n",
      "66 프라다 버킷백 라지 1BH097\n",
      "67 나이키 헤리티지 힙색 BA5750-010\n",
      "68 크록스 클래식 베이 클로그 여성 키높이 샌...\n",
      "69 셀린느 미니카바스 버티칼 194372BZK 04LU\n",
      "70 나이키 스투시 에어 줌 스피리돈 케이지2 파...\n",
      "71 크록스 바야밴드 클로그 7가지 컬러 205089\n",
      "72 뉴발란스 남녀공용 토앤토 NB X T T FLIPFL...\n",
      "73 크록스 크록밴드 11016-001\n",
      "74 뉴발란스 우먼스 327 문빔 아우터스페이스 ...\n",
      "75 아디다스 듀라모 9 K BB7061\n",
      "76 살바토레페라가모 페레가모 정장벨트 실버블...\n",
      "77 루이 비통 멀티 포쉐트 악세수아 M45777\n",
      "78 카시오 어린이 초등학생 방수 전자 손목 시...\n",
      "79 나이키 써밋화이트 우먼 TC7900 DD9682-100\n",
      "80 디스커버리익스페디션 여성 뮬리 슬라이드 ...\n",
      "81 셀린느 폴코백 탄컬러 숄더백 크로스백 191...\n",
      "82 나이키 에어맥스 270 AH8050-002\n",
      "83 라코스테 매장정품 CARNABY EVO TRI 1 739S...\n",
      "84 버버리 스트라이프 포이베 파우치 8026737 ...\n",
      "85 알렉산더맥퀸 오버솔 스니커즈 553770 WHGP...\n",
      "86 MLB 플레이볼 오리진 뮬 32SHS1011\n",
      "87 라코스테 레이디 미니 크로스백 NF2609\n",
      "88 버버리 애쉬비 호보백 3945726\n",
      "89 토리버치 밀러 미니 버킷 토트백 55222\n",
      "90 나이키 우먼스 코트레거시 뮬 스니커즈 3종...\n",
      "91 톰브라운 20FW 페블레더 카드 홀더 001 MAW...\n",
      "92 보테가베네타 아몬드 인트레치아토 미니 조...\n",
      "93 나이키 에어맥스 엑시스 AA2146-003\n",
      "94 반스 코어클래식 올드스쿨 VN000D3HY28\n",
      "95 나이키 테크 힙색 웨이스트백 BA5751-010\n",
      "96 크록스 크록밴드 U 스투코 멜론 11016-1AS\n",
      "97 캉골 컨버스 앨리스 버킷백 3738\n",
      "98 아디다스 오즈위고 FX6029\n",
      "99 스케쳐스 코즈믹스 메모리폼 키높이 어글리...\n",
      "100 크록스 2종균일가 크록밴드 II 슬라이드 슬...\n"
     ]
    }
   ],
   "source": [
    "from bs4 import BeautifulSoup\n",
    "import requests\n",
    "URL =\"https://search.shopping.naver.com/best100v2/detail.nhn?catId=50000001\"\n",
    "res = requests.get(URL)\n",
    "soup = BeautifulSoup(res.content, 'html.parser')\n",
    "items = soup.select(\"#productListArea > ul > li > p > a\")\n",
    "\n",
    "for index, item in enumerate(items):\n",
    "    print(index+1,item.get_text())"
   ]
  },
  {
   "cell_type": "code",
   "execution_count": null,
   "id": "b0086b4e",
   "metadata": {},
   "outputs": [],
   "source": [
    "#popularItemList > li:nth-child(1) > a"
   ]
  },
  {
   "cell_type": "code",
   "execution_count": 83,
   "id": "d76ad161",
   "metadata": {},
   "outputs": [
    {
     "name": "stdout",
     "output_type": "stream",
     "text": [
      "셀트리온 253,000 None\n",
      "HMM 37,350 None\n",
      "삼성전자 81,600 None\n",
      "휴마시스 19,850 None\n",
      "신풍제약 64,000 None\n",
      "씨젠 87,000 None\n",
      "두산중공업 12,800 None\n",
      "카카오 114,500 None\n",
      "두산퓨얼셀 40,800 None\n",
      "현대차 219,500 None\n"
     ]
    }
   ],
   "source": [
    "from bs4 import BeautifulSoup\n",
    "import requests\n",
    "URL =\"https://finance.naver.com/sise/\"\n",
    "res = requests.get(URL)\n",
    "soup = BeautifulSoup(res.content, 'html.parser')\n",
    "items = soup.select(\"#popularItemList > li\")\n",
    "for item in items:\n",
    "    print(item.find('a').get_text(),\n",
    "          item.find('span').get_text(),\n",
    "         item.find('img'))"
   ]
  },
  {
   "cell_type": "code",
   "execution_count": 93,
   "id": "5e6a6de3",
   "metadata": {},
   "outputs": [
    {
     "name": "stdout",
     "output_type": "stream",
     "text": [
      "HMM 37,050 하락\n",
      "셀트리온 252,000 하락\n",
      "삼성전자 81,500 보합\n",
      "두산퓨얼셀 40,600 하락\n",
      "KCTC 10,050 상승\n",
      "신풍제약 63,700 하락\n",
      "휴마시스 19,950 하락\n",
      "STX중공업 10,900 상한가\n",
      "카카오 114,500 상승\n",
      "씨젠 87,000 하락\n"
     ]
    }
   ],
   "source": [
    "from bs4 import BeautifulSoup\n",
    "import requests\n",
    "URL =\"https://finance.naver.com/sise/\"\n",
    "res = requests.get(URL)\n",
    "soup = BeautifulSoup(res.content, 'html.parser')\n",
    "items = soup.select(\"#popularItemList > li\")\n",
    "for item in items:\n",
    "    print(item.find('a').get_text(),\n",
    "          item.find('span').get_text(),\n",
    "         item.find('span','blind').get_text())"
   ]
  },
  {
   "cell_type": "markdown",
   "id": "402e33db",
   "metadata": {},
   "source": [
    "## 나의 취미 인터넷 방송 제목 크롤링해보기"
   ]
  },
  {
   "cell_type": "code",
   "execution_count": null,
   "id": "1bc9d340",
   "metadata": {},
   "outputs": [],
   "source": []
  }
 ],
 "metadata": {
  "kernelspec": {
   "display_name": "Python 3",
   "language": "python",
   "name": "python3"
  },
  "language_info": {
   "codemirror_mode": {
    "name": "ipython",
    "version": 3
   },
   "file_extension": ".py",
   "mimetype": "text/x-python",
   "name": "python",
   "nbconvert_exporter": "python",
   "pygments_lexer": "ipython3",
   "version": "3.7.10"
  }
 },
 "nbformat": 4,
 "nbformat_minor": 5
}
