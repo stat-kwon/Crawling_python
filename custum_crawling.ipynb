{
 "cells": [
  {
   "cell_type": "code",
   "execution_count": 118,
   "id": "4ffdd1b5",
   "metadata": {},
   "outputs": [],
   "source": [
    "import requests\n",
    "from bs4 import BeautifulSoup"
   ]
  },
  {
   "cell_type": "code",
   "execution_count": 130,
   "id": "42b616db",
   "metadata": {},
   "outputs": [
    {
     "name": "stdout",
     "output_type": "stream",
     "text": [
      "카카오, ‘톡스토어’ 판매자 키운다...전국 1200명 모집\n",
      "'라이언 캐디' 떴다…카카오 골프연습장 사업 진출\n",
      "3명에게 '카카오톡 선물' 하면 5000원 받는다\n",
      "클로브 “카카오엔터테인먼트와 패밀리십…패션 커머스 영역 확대”\n",
      "본색 드러내는 카카오, '벙어리 냉가슴' 플랫폼 노동자들\n",
      "'해외 웹툰경쟁' 네이버→日, 카카오→동남아…상대 텃밭 공략\n",
      "6월 모바일 삼국지 벌어진다…엔씨vs넷마블vs카카오게임즈\n",
      "택시 호출 도전장 내민 우버-티맵 연합군...카카오 아성 흔들까\n",
      "[카카오 톺아보기②]‘유니콘’ 카카오엔터프라이즈, 적자행진은 계속\n",
      "카카오 공매도 ‘급증’…공매 잔고는 줄어\n"
     ]
    }
   ],
   "source": [
    "res = requests.get('https://search.naver.com/search.naver?where=news&sm=tab_pge&query=%EC%B9%B4%EC%B9%B4%EC%98%A4&sort=0&photo=0&field=0&pd=0&ds=&de=&cluster_rank=45&mynews=0&office_type=0&office_section_code=0&news_office_checked=&nso=so:r,p:all,a:all&start=1')\n",
    "soup = BeautifulSoup(res.content, 'html.parser')\n",
    "data = soup.select(\"li > div.news_wrap.api_ani_send > div > a\")\n",
    "for item in data:\n",
    "    print(item.get_text())"
   ]
  },
  {
   "cell_type": "code",
   "execution_count": null,
   "id": "d73c80af",
   "metadata": {},
   "outputs": [],
   "source": [
    "#sp_nws56 > div.news_wrap.api_ani_send > div > div.news_info > div > a.info.press"
   ]
  },
  {
   "cell_type": "code",
   "execution_count": 136,
   "id": "620c98e1",
   "metadata": {},
   "outputs": [
    {
     "name": "stdout",
     "output_type": "stream",
     "text": [
      "블로터언론사\n",
      "매일경제언론사\n",
      "아시아경제언론사\n",
      "동아일보\n",
      "프레시안언론사\n",
      "한국경제언론사\n",
      "아이뉴스24언론사\n",
      "데일리안\n",
      "블로터언론사\n",
      "핀포인트뉴스\n"
     ]
    }
   ],
   "source": [
    "res = requests.get('https://search.naver.com/search.naver?where=news&sm=tab_pge&query=%EC%B9%B4%EC%B9%B4%EC%98%A4&sort=0&photo=0&field=0&pd=0&ds=&de=&cluster_rank=45&mynews=0&office_type=0&office_section_code=0&news_office_checked=&nso=so:r,p:all,a:all&start=1')\n",
    "soup = BeautifulSoup(res.content, 'html.parser')\n",
    "data = soup.select(\"li > div.news_wrap.api_ani_send > div > div.news_info > div > a.info.press\")\n",
    "for item in data:\n",
    "    print(item.get_text().split(' ')[0])"
   ]
  },
  {
   "cell_type": "markdown",
   "id": "45bf9d4f",
   "metadata": {},
   "source": [
    "## 네이버 뉴스기사 크롤링"
   ]
  },
  {
   "cell_type": "code",
   "execution_count": null,
   "id": "b326c734",
   "metadata": {},
   "outputs": [],
   "source": [
    "https://search.naver.com/search.naver?where=news&sm=tab_pge&query=%EC%B9%B4%EC%B9%B4%EC%98%A4&sort=0&photo=0&field=0&pd=0&ds=&de=&cluster_rank=45&mynews=0&office_type=0&office_section_code=0&news_office_checked=&nso=so:r,p:all,a:all&start=1\n",
    "https://search.naver.com/search.naver?where=news&sm=tab_pge&query=%EC%B9%B4%EC%B9%B4%EC%98%A4&sort=0&photo=0&field=0&pd=0&ds=&de=&cluster_rank=45&mynews=0&office_type=0&office_section_code=0&news_office_checked=&nso=so:r,p:all,a:all&start=11\n",
    "https://search.naver.com/search.naver?where=news&sm=tab_pge&query=%EC%B9%B4%EC%B9%B4%EC%98%A4&sort=0&photo=0&field=0&pd=0&ds=&de=&cluster_rank=45&mynews=0&office_type=0&office_section_code=0&news_office_checked=&nso=so:r,p:all,a:all&start=21"
   ]
  },
  {
   "cell_type": "code",
   "execution_count": null,
   "id": "7785dfab",
   "metadata": {},
   "outputs": [],
   "source": [
    "search = 'https://search.naver.com/search.naver?where=news&sm=tab_pge&query=%EC%B9%B4%EC%B9%B4%EC%98%A4&sort=0&photo=0&field=0&pd=0&ds=&de=&cluster_rank=45&mynews=0&office_type=0&office_section_code=0&news_office_checked=&nso=so:r,p:all,a:all&start='"
   ]
  },
  {
   "cell_type": "code",
   "execution_count": null,
   "id": "dfe532f1",
   "metadata": {},
   "outputs": [],
   "source": [
    "1 -> 1 1\n",
    "11 -> 2 9\n",
    "21 -> 3 18"
   ]
  },
  {
   "cell_type": "code",
   "execution_count": 140,
   "id": "3f741d85",
   "metadata": {},
   "outputs": [],
   "source": [
    "import requests\n",
    "from bs4 import BeautifulSoup\n",
    "\n",
    "def naver_newspages_crawling(num, url,title_css,info_css):\n",
    "    '''\n",
    "    num : 페이지 수\n",
    "    url : 검색한 후 url 규칙성이 있어야함 (1->11->21 증가추세)\n",
    "    title_css : title copy selector\n",
    "    info_css : info copy selector\n",
    "    '''\n",
    "    news_titles = list()\n",
    "    news_infos = list()\n",
    "    for i in range(1,num+1):\n",
    "        res = requests.get(url + str(((i-1)*9)+i))\n",
    "        soup = BeautifulSoup(res.content, 'html.parser')\n",
    "        \n",
    "        for css in [title_css, info_css]:\n",
    "            if css == title_css:\n",
    "                data = soup.select(title_css)\n",
    "                for item in data:\n",
    "                    news_titles.append([item.get_text()])\n",
    "            else:\n",
    "                data = soup.select(info_css)\n",
    "                for item in data:\n",
    "                    news_infos.append([item.get_text()])"
   ]
  },
  {
   "cell_type": "code",
   "execution_count": 142,
   "id": "2535d7a2",
   "metadata": {},
   "outputs": [],
   "source": [
    "URL = 'https://search.naver.com/search.naver?where=news&sm=tab_pge&query=%EC%B9%B4%EC%B9%B4%EC%98%A4&sort=0&photo=0&field=0&pd=0&ds=&de=&cluster_rank=45&mynews=0&office_type=0&office_section_code=0&news_office_checked=&nso=so:r,p:all,a:all&start='\n",
    "crawling = naver_newspages_crawling(10, URL,\n",
    "                                     \"li > div.news_wrap.api_ani_send > div > a\",\n",
    "                                     \"li > div.news_wrap.api_ani_send > div > div.news_info > div > a.info.press\" )"
   ]
  },
  {
   "cell_type": "code",
   "execution_count": 144,
   "id": "48e41234",
   "metadata": {},
   "outputs": [
    {
     "data": {
      "text/plain": [
       "NoneType"
      ]
     },
     "execution_count": 144,
     "metadata": {},
     "output_type": "execute_result"
    }
   ],
   "source": [
    "type(crawling)"
   ]
  },
  {
   "cell_type": "code",
   "execution_count": 150,
   "id": "a5a45202",
   "metadata": {},
   "outputs": [
    {
     "name": "stdout",
     "output_type": "stream",
     "text": [
      "<Response [200]>\n",
      "<Response [200]>\n",
      "<Response [200]>\n",
      "<Response [200]>\n",
      "<Response [200]>\n",
      "<Response [200]>\n",
      "<Response [200]>\n",
      "<Response [200]>\n",
      "<Response [200]>\n",
      "<Response [200]>\n"
     ]
    }
   ],
   "source": [
    "url = 'https://search.naver.com/search.naver?where=news&sm=tab_pge&query=%EC%B9%B4%EC%B9%B4%EC%98%A4&sort=0&photo=0&field=0&pd=0&ds=&de=&cluster_rank=45&mynews=0&office_type=0&office_section_code=0&news_office_checked=&nso=so:r,p:all,a:all&start='\n",
    "title_css = \"li > div.news_wrap.api_ani_send > div > a\"\n",
    "num = 10\n",
    "\n",
    "news_titles = list()\n",
    "for i in range(1, num+1):\n",
    "    res = requests.get(url + str(((i-1)*9)+i))\n",
    "    soup = BeautifulSoup(res.content, 'html.parser')\n",
    "    data = soup.select(title_css)\n",
    "    news_titles.append([item.get_text()])"
   ]
  },
  {
   "cell_type": "code",
   "execution_count": 156,
   "id": "793cc43f",
   "metadata": {},
   "outputs": [],
   "source": [
    "url = 'https://search.naver.com/search.naver?where=news&sm=tab_pge&query=%EC%B9%B4%EC%B9%B4%EC%98%A4&sort=0&photo=0&field=0&pd=0&ds=&de=&cluster_rank=45&mynews=0&office_type=0&office_section_code=0&news_office_checked=&nso=so:r,p:all,a:all&start='\n",
    "title_css = \"li > div.news_wrap.api_ani_send > div > a\"\n",
    "num = 10\n",
    "def crawling_news(url, title_css, num):\n",
    "    news_titles = list()\n",
    "    for i in range(1, num+1):\n",
    "        res = requests.get(url + str(((i-1)*9)+i))\n",
    "        soup = BeautifulSoup(res.content, 'html.parser')\n",
    "        data = soup.select(title_css)\n",
    "        \n",
    "        for item in data:\n",
    "            news_titles.append([item.get_text()])\n",
    "    return news_titles"
   ]
  },
  {
   "cell_type": "code",
   "execution_count": 160,
   "id": "a0e14b4f",
   "metadata": {
    "scrolled": true
   },
   "outputs": [],
   "source": [
    "title = crawling_news(url, title_css, num)"
   ]
  },
  {
   "cell_type": "code",
   "execution_count": 159,
   "id": "c7c8766c",
   "metadata": {},
   "outputs": [],
   "source": [
    "info_css = \"li > div.news_wrap.api_ani_send > div > div.news_info > div > a.info.press\"\n",
    "info = crawling_news(url, info_css, num)"
   ]
  },
  {
   "cell_type": "code",
   "execution_count": 173,
   "id": "d50c812c",
   "metadata": {
    "scrolled": true
   },
   "outputs": [
    {
     "name": "stdout",
     "output_type": "stream",
     "text": [
      "[['카카오, ‘톡스토어’ 판매자 키운다...전국 1200명 모집', '블로터언론사 선정'], [\"카카오도 판매자 확보 본격 가세…전국서 '톡스토어' 창업 교육\", '연합뉴스'], [\"'라이언 캐디' 떴다…카카오 골프연습장 사업 진출\", '매일경제언론사 선정'], [\"3명에게 '카카오톡 선물' 하면 5000원 받는다\", '아시아경제언론사 선정'], ['클로브 “카카오엔터테인먼트와 패밀리십…패션 커머스 영역 확대”', '동아일보'], [\"본색 드러내는 카카오, '벙어리 냉가슴' 플랫폼 노동자들\", '프레시안언론사 선정'], ['카카오택시 탄 김오수 검찰총장 후보자, 현안 질문에 “차차…”', '조선비즈'], [\"'해외 웹툰경쟁' 네이버→日, 카카오→동남아…상대 텃밭 공략\", '한국경제언론사 선정'], ['6월 모바일 삼국지 벌어진다…엔씨vs넷마블vs카카오게임즈', '아이뉴스24언론사 선정'], ['택시 호출 도전장 내민 우버-티맵 연합군...카카오 아성 흔들까', '데일리안'], ['카카오택시 탄 김오수 검찰총장 후보자, 현안 질문에 “차차…”', '조선비즈'], ['카카오톡 친구 3명에게 선물하면 5000원 받는다', '머니투데이'], [\"'해외 웹툰경쟁' 네이버→日, 카카오→동남아…상대 텃밭 공략\", '한국경제언론사 선정'], ['캐세이퍼시픽, 카카오톡 공식 채널 개설', '파이낸셜뉴스'], ['내일 공매도 재개… ‘대차잔고 급증’ 한화시스템·CJ CGV·카카오 주의', '조선비즈언론사 선정'], ['‘지그재그’ 품은 카카오, 향방은?', '패션비즈'], ['6월 모바일 삼국지 벌어진다…엔씨vs넷마블vs카카오게임즈', '아이뉴스24언론사 선정'], ['택시 호출 도전장 내민 우버-티맵 연합군...카카오 아성 흔들까', '데일리안'], ['카카오페이, 5월 대규모 결제 프로모션 진행', '스카이데일리'], ['[ET] 돈 되는 ‘웹툰’…네이버·카카오, 한국판 디즈니되나?', 'KBS'], ['쿠팡 창업자 ‘총수’ 지정 피해 네이버·카카오와 형평성 논란', '매경이코노미언론사 선정'], ['카카오커머스, 5월 가정의달 맞이 ‘톡딜 패밀리 세일’', '아주경제'], ['카카오내비로 오일교환 등 방문정비…앱으로 결제', '연합뉴스'], [\"'가정의 달' 선물케이크, 파리바게뜨 '카카오 라방'에서 산다\", '머니투데이'], ['[브리핑] 이베이코리아·티몬·NS홈쇼핑·11번가·카카오커머스', '포쓰저널'], [\"동남아 콘텐츠 시장, 선점 네이버 vs 도전 카카오 '쟁탈전'\", 'EBN'], ['카카오페이 디지털 손보사, 4개월째 무소식', '전자신문언론사 선정'], ['카카오, 사흘간 공매량 6100건 돌파…공매 잔고는?', '핀포인트뉴스'], ['카카오게임즈 공매도 ‘급감’…공매 잔고는 늘어', '핀포인트뉴스'], ['캐세이퍼시픽, 카카오톡 채널 오픈하고 고객 편의 확대', '여행신문'], ['[홈쇼핑?폰쇼핑!①] 네이버·카카오 판매 수수료 2~5%....홈쇼핑은 왜 30%?', '디지털데일리언론사 선정'], [\"파리바게뜨, 가정의 달 맞아 ‘카카오쇼핑라이브' 진행\", '조세일보'], ['최연소 카카오 사외이사 박새롬 교수의 공부비법 \"교수님의 OO까지 모두 필기...', '한경잡앤조이'], ['KT와 카카오의 공유자전거 힘겨루기…T바이크에 타조 맞불', '매일경제'], ['카카오페이, 3일 하루 GS25 15% 할인…5월 매주 1억 쏜다', '뉴스1'], [\"적자 사업인데도…'자동차보험' 검토하는 카카오\", 'MTN'], ['오름새 보여준 더존비즈온...연달아 NAVER·카카오 소폭 상승', '농업경제신문'], ['김범석, 쿠팡 총수 지정 피했다…네이버·카카오 역차별 논란', '한국경제언론사 선정'], [\"모바일 CJ, '라방'으로 카카오·쿠팡과 맞짱\", '한국경제언론사 선정'], ['카카오VX, 루트52CC와 전략적 업무 협약', '파이낸셜뉴스'], ['\"카뱅 상담 절반은 챗봇 담당\"…카카오, AI 전화 응대도 개발 중(종합)', '연합뉴스'], ['카카오T, 공유킥보드 지쿠터·씽씽 태운다', '블로터언론사 선정'], [\"[공식] 안재모, 카카오TV 오리지널 '야인 이즈 백' 출연..18년만에 '킹두한' ...\", '스포츠조선'], ['[변화 바람 카카오 ④ (끝)] 모빌리티, 연이은 투자 유치 ‘영토 확장’ 가속...', '한국금융신문'], ['카카오뱅크 26주적금, 열흘 만에 20만좌 돌파', '뉴시스'], ['네이버･셀트리온･카카오, 자산 4조 이상 늘어', '이코노미스트언론사 선정'], [\"카카오게임즈 '오딘'…사전예약 하루만에 100만명 돌파\", '뉴스1'], [\"불매운동 시작된 오늘(3일) 카카오와 손잡고 '15% 할인쿠폰' 뿌린 GS25\", '인사이트'], ['㈜카카오 VX, 루트52컨트리클럽과 전략적 업무 협약', '스포츠경향'], [\"국민주되는 '카카오'…뱅크·페이등 줄줄이 상장대기\", '매경이코노미언론사 선정'], ['네이버ㆍ카카오 주채무계열 지정 안한다', 'e대한경제'], ['사업 확장 속도내는 카카오페이…커지는 IPO 기대감', '아시아경제언론사 선정'], ['택시업계 \"독점 횡포\"...카카오T 유료 멤버십 반발 확산', '한국일보언론사 선정'], ['카카오T, 연내 ‘씽씽·지쿠터’ 서비스 출시', '스포츠서울'], [\"쿠쿠 펫 브랜드 '넬로', 카카오 쇼핑 라이브 진행\", 'ZDNet Korea'], ['[더벨][2021 공시대상기업집단]네이버, 카카오보다 2년 늦게 대기업 지정된 까...', '더벨'], ['[인터뷰] 카카오 미래 짊어진 히트 제조기', '매일경제언론사 선정'], ['[단독]칼 빼든 카카오 \"타다·우버가 앱 쓰면 제보해라\"', '아시아경제언론사 선정'], ['[금주의쟁점] 카카오게임즈 등 게임업체 1분기 실적 시즌 돌입\\xa0', '더게임스데일리'], [\"티머니GO 이어 카카오T에서도 '씽씽' 대여…연내 연동 완료\", '머니투데이'], ['카카오페이, 빠르면 오늘 상장심사 청구한다', '조선비즈언론사 선정'], [\"카카오커머스 '카카오톡 쇼핑하기' 톡딜 패밀리 세일 진행\", '게임포커스'], ['공매도 3일부터 재개...증권가 \"카카오·삼성바이오로직스 등은 위험\"', '아시아타임즈'], [\"네이버·카카오, ESG 바람 속 데이터센터 '친환경化' 가속\", '아시아타임즈'], [\"라인 vs 카카오…'게임' 정면대결 불붙었다\", '뉴스1'], [\"카카오페이, 디지털 손보사 설립 제동…보험업계 '일단 안도'\", '컨슈머타임스'], ['카카오 계열사 야나두, 첫 대규모 경력직 공채 진행', '디지털타임스'], ['카카오, 3% 넘게 상승…카카오페이 코스피 상장 추진', '한국경제'], ['[코스피] 기관 순매도 TOP5 NAVER·카카오·LG전자·기아·현대차', '농업경제신문'], ['[법으로 보는 JOB의 미래 (62)] 전 카카오뱅크 대표 이용우 의원, 비트코인 제...', '뉴스투데이'], ['카카오게임즈 vs 라인게임즈, 신작 정면승부..카카오·네이버 대리전', '뷰어스'], ['\"택시업계 목 죄는 카카오모빌리티 불공정 개선해야\"', '전북일보'], ['카카오 공매도 또 ‘증가’…공매 잔고는 줄어', '핀포인트뉴스'], ['[Daily New쇼핑] AK플라자, 홈플러스, 카카오커머스', '뉴데일리'], ['네이버 오른다는데…공매도 타깃된 카카오 \"나 떨고있니?\"', '머니투데이언론사 선정'], ['IPO 기대감 커지는 카카오페이…속도내는 사업들(종합)', '아시아경제언론사 선정'], ['“장례 2일째…” 한강공원 사망 대학생 고(故) 손정민 씨가 아버지에게 보낸...', '위키트리'], ['카카오게임즈, 야심작 ‘오딘’ 사전 예약 시작', '일간스포츠'], [\"카카오내비, '방문정비' 오픈...세차-정비-충전-주행분석 '올인원 케어'\", '게임톡'], ['카카오 공매도 ‘급감’…공매 잔고도 줄어', '핀포인트뉴스'], ['[오늘의 장바구니] 롯데백화점·홈플러스·이마트24·카카오커머스 외', '프라임경제'], ['카카오 T 바이크, 4개 광역시로 서비스 확대', '아이뉴스24언론사 선정'], ['네이버 인증서 800만건 돌파…카카오에 반격', '아시아경제언론사 선정'], ['매일유업 바리스타룰스, 카카오톡 선물하기…100% 경품', '뉴시스'], [\"제주대학교 WISET사업단, 카카오 이재승 이사 초청 '현장 강화 교육'\", '한국강사신문'], [\"카뱅 IPO 착수 1주일 만에…'10조 몸값' 카카오페이도 예심 청구\", '한국경제언론사 선정'], [\"쿠쿠, 펫 브랜드 '넬로' 카카오 쇼핑라이브 실시\", '파이낸셜뉴스'], ['[규제 완화의 역설①]반반택시가 이끈 택시 합승 허용, 카카오만 웃는다?', '뉴시스언론사 선정'], ['카카오게임즈, ‘영원회귀’ 시즌2 ‘돌입’', '매일경제'], ['[시경Today-유통] 카카오톡 선물하기, 쇼핑 포인트 증정 外', '시장경제신문'], ['코로나 가짜뉴스 사라질까···네이버·카카오가 직접 삭제 가능', '서울경제'], [\"커머스·콘텐츠 날개 단 '카카오 vs 네이버', 1분기 실적 '인건비'가 갈랐다\", '아시아타임즈'], ['카카오엔터프라이즈, 공공 서비스·업무 혁신 파상공세', '전자신문언론사 선정'], [\"카카오페이 7월 상장 전망...카카오뱅크 '고평가 논란' 잠재울까\", '더팩트언론사 선정'], ['카카오 웹툰, 태국 상륙…1위 네이버와 정면승부', '매일경제'], [\"카카오의 성공 비결 담긴 협업 툴, '카카오워크'\", 'IT동아'], ['예비허가 심사만 4개월째…카카오손해보험 연내 출범 불투명', '뉴스1'], ['카카오 공매도 ‘급증’…공매 잔고는 줄어', '핀포인트뉴스'], ['카카오게임즈 달빛조각사, 日 트위터 팔로우 이벤트…바람몰이 시작', '더구루'], [\"카카오 업은 자전거株, '카카오 불패 신화' 수혜 받을까\", '파이낸셜뉴스언론사 선정']]\n"
     ]
    }
   ],
   "source": [
    "data_all = list()\n",
    "for a, b in zip(title, info):\n",
    "    data_all.append([a[0],b[0]])\n",
    "print(data_all)"
   ]
  },
  {
   "cell_type": "code",
   "execution_count": 174,
   "id": "ef7cd58b",
   "metadata": {},
   "outputs": [],
   "source": [
    "import openpyxl\n",
    "\n",
    "def write_excel_template(filename, sheetname, listdata):\n",
    "    excel_file = openpyxl.Workbook()\n",
    "    excel_sheet = excel_file.active\n",
    "    excel_sheet.column_dimensions['A'].width = 100\n",
    "    excel_sheet.column_dimensions['B'].width = 20\n",
    "    \n",
    "    if sheetname != '':\n",
    "        excel_sheet.title = sheetname\n",
    "    \n",
    "    for item in listdata:\n",
    "        excel_sheet.append(item)\n",
    "    excel_file.save(filename)\n",
    "    excel_file.close()"
   ]
  },
  {
   "cell_type": "code",
   "execution_count": 1,
   "id": "da3c8a69",
   "metadata": {},
   "outputs": [
    {
     "output_type": "error",
     "ename": "NameError",
     "evalue": "name 'write_excel_template' is not defined",
     "traceback": [
      "\u001b[1;31m---------------------------------------------------------------------------\u001b[0m",
      "\u001b[1;31mNameError\u001b[0m                                 Traceback (most recent call last)",
      "\u001b[1;32m<ipython-input-1-16004bd03d07>\u001b[0m in \u001b[0;36m<module>\u001b[1;34m\u001b[0m\n\u001b[1;32m----> 1\u001b[1;33m \u001b[0mwrite_excel_template\u001b[0m\u001b[1;33m(\u001b[0m\u001b[1;34m'카카오_크롤링.xlsx'\u001b[0m\u001b[1;33m,\u001b[0m\u001b[1;34m''\u001b[0m\u001b[1;33m,\u001b[0m\u001b[0mdata_all\u001b[0m\u001b[1;33m)\u001b[0m\u001b[1;33m\u001b[0m\u001b[1;33m\u001b[0m\u001b[0m\n\u001b[0m",
      "\u001b[1;31mNameError\u001b[0m: name 'write_excel_template' is not defined"
     ]
    }
   ],
   "source": [
    "write_excel_template('카카오_크롤링.xlsx','',data_all)"
   ]
  },
  {
   "cell_type": "code",
   "execution_count": null,
   "metadata": {},
   "outputs": [],
   "source": []
  }
 ],
 "metadata": {
  "kernelspec": {
   "name": "python3710jvsc74a57bd0313572492c3d47c97fe0ca592df976265be0a2fc91675ccbf270c3e5617ff0a6",
   "display_name": "Python 3.7.10 64-bit ('fullstack': conda)"
  },
  "language_info": {
   "codemirror_mode": {
    "name": "ipython",
    "version": 3
   },
   "file_extension": ".py",
   "mimetype": "text/x-python",
   "name": "python",
   "nbconvert_exporter": "python",
   "pygments_lexer": "ipython3",
   "version": "3.7.10"
  }
 },
 "nbformat": 4,
 "nbformat_minor": 5
}